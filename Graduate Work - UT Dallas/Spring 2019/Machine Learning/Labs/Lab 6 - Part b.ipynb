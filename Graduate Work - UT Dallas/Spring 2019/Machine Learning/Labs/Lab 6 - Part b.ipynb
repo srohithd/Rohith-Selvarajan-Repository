{
 "cells": [
  {
   "cell_type": "markdown",
   "metadata": {},
   "source": [
    "### Lab Tasks\n",
    "- In the dataframe creates in Lab 3, set ``mpg`` as the target value. \n",
    "- The rest of the columns are considered as X, feature set. \n",
    "- Use ``train_test_split`` to split the dataset into train and test dataset. set ``random_state = 0``.\n",
    "- Use ``StandardScaler`` to scale feature set X. \n",
    "\n",
    "### Data prepration"
   ]
  },
  {
   "cell_type": "code",
   "execution_count": 2,
   "metadata": {},
   "outputs": [],
   "source": [
    "import pandas as pd\n",
    "import numpy as np"
   ]
  },
  {
   "cell_type": "code",
   "execution_count": 3,
   "metadata": {},
   "outputs": [],
   "source": [
    "data = pd.read_csv('auto.csv')"
   ]
  },
  {
   "cell_type": "code",
   "execution_count": 4,
   "metadata": {},
   "outputs": [],
   "source": [
    "data = data[data != '?']"
   ]
  },
  {
   "cell_type": "code",
   "execution_count": 5,
   "metadata": {},
   "outputs": [],
   "source": [
    "data['horsepower'] = data['horsepower'].astype(float)\n",
    "df = data[['cylinders', 'horsepower']]\n",
    "g = df.groupby('cylinders').median()"
   ]
  },
  {
   "cell_type": "code",
   "execution_count": 6,
   "metadata": {},
   "outputs": [],
   "source": [
    "data_imputed = df.apply(lambda grp: grp.fillna(grp.median()))"
   ]
  },
  {
   "cell_type": "code",
   "execution_count": 7,
   "metadata": {},
   "outputs": [],
   "source": [
    "data['horsepower'] = data_imputed['horsepower'].astype(float)\n",
    "data.drop(['car name'], axis = 1, inplace = True)"
   ]
  },
  {
   "cell_type": "code",
   "execution_count": 8,
   "metadata": {},
   "outputs": [],
   "source": [
    "y = data['mpg']\n",
    "X = data.drop(['mpg'], axis = 1)"
   ]
  },
  {
   "cell_type": "markdown",
   "metadata": {},
   "source": [
    "#### Question 1\n",
    "We would like to use Ada Boost method to improve the result of a ``KNeighborsRegressor`` model with ``n_neighbors = 5``. Use a grid search to find the best parameters of ``AdaBoostRegressor``. \n",
    "```Python\n",
    "    n_estimators in [10, 50, 100]\n",
    "    learning_rate in [0.1, 0.5, 1]```\n",
    "\n",
    "Set ``random_state = 0`` if the model has hyperparameter ``random_state``. \n",
    "\n",
    "What are the best parameters of this model? "
   ]
  },
  {
   "cell_type": "code",
   "execution_count": 24,
   "metadata": {},
   "outputs": [],
   "source": [
    "from sklearn.preprocessing import MinMaxScaler\n",
    "from sklearn.model_selection import train_test_split\n",
    "X_train_orig, X_test_orig, y_train, y_test = train_test_split(X, y, random_state = 0)\n",
    "\n",
    "scaler = MinMaxScaler()\n",
    "X_train = scaler.fit_transform(X_train_orig)\n",
    "X_test = scaler.transform(X_test_orig)"
   ]
  },
  {
   "cell_type": "code",
   "execution_count": 25,
   "metadata": {},
   "outputs": [
    {
     "data": {
      "text/plain": [
       "{'learning_rate': 0.1, 'n_estimators': 10}"
      ]
     },
     "execution_count": 25,
     "metadata": {},
     "output_type": "execute_result"
    }
   ],
   "source": [
    "from sklearn.ensemble import AdaBoostRegressor\n",
    "from sklearn.neighbors import KNeighborsRegressor\n",
    "\n",
    "ada_reg = AdaBoostRegressor(KNeighborsRegressor(n_neighbors = 5))\n",
    "ada_reg.fit(X_train, y_train)\n",
    "\n",
    "#Grid Search to find best parameters\n",
    "from sklearn.grid_search import GridSearchCV\n",
    "param_grid = {\n",
    "    'n_estimators': [10, 50, 100],\n",
    "    'learning_rate': [0.1, 0.5, 1]\n",
    "}\n",
    "\n",
    "CV_ada_reg = GridSearchCV(estimator = ada_reg, param_grid = param_grid)\n",
    "CV_ada_reg.fit(X_train, y_train)\n",
    "CV_ada_reg.best_params_"
   ]
  },
  {
   "cell_type": "markdown",
   "metadata": {},
   "source": [
    "#### Question 2\n",
    "Train an Adaboost model with the best parameter found in the previous question. What is grid search test score? (two significant digits). \n",
    "\n",
    "Use ``random_state = 0``. "
   ]
  },
  {
   "cell_type": "code",
   "execution_count": 22,
   "metadata": {},
   "outputs": [
    {
     "name": "stdout",
     "output_type": "stream",
     "text": [
      "Train score: 0.82\n",
      "Test score: 0.63\n"
     ]
    }
   ],
   "source": [
    "#CV_ada_reg_upt = AdaBoostRegressor(n_estimators = 10, \n",
    "#                             learning_rate = 0.1, random_state = 0)\n",
    "#CV_ada_reg_upt.fit(X_train, y_train)\n",
    "ada_reg_upt = AdaBoostRegressor(KNeighborsRegressor(n_neighbors = 5), learning_rate = 0.1, \n",
    "                                n_estimators = 10, random_state = 0)\n",
    "ada_reg_upt.fit(X_train, y_train)\n",
    "print('Train score: {:.2f}'.format(ada_reg_upt.score(X_train, y_train)))\n",
    "print('Test score: {:.2f}'.format(ada_reg_upt.score(X_test, y_test)))\n"
   ]
  }
 ],
 "metadata": {
  "kernelspec": {
   "display_name": "Python 3",
   "language": "python",
   "name": "python3"
  },
  "language_info": {
   "codemirror_mode": {
    "name": "ipython",
    "version": 3
   },
   "file_extension": ".py",
   "mimetype": "text/x-python",
   "name": "python",
   "nbconvert_exporter": "python",
   "pygments_lexer": "ipython3",
   "version": "3.6.5"
  }
 },
 "nbformat": 4,
 "nbformat_minor": 2
}
